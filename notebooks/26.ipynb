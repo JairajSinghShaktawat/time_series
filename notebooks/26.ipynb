{
 "cells": [
  {
   "cell_type": "markdown",
   "metadata": {},
   "source": [
    "### grid search ARIMA parameters for time series for Shampoo Sales"
   ]
  },
  {
   "cell_type": "code",
   "execution_count": 1,
   "metadata": {},
   "outputs": [
    {
     "name": "stderr",
     "output_type": "stream",
     "text": [
      "/Users/jai/anaconda/lib/python3.6/site-packages/statsmodels/compat/pandas.py:56: FutureWarning: The pandas.core.datetools module is deprecated and will be removed in a future version. Please use the pandas.tseries module instead.\n",
      "  from pandas.core import datetools\n"
     ]
    },
    {
     "name": "stdout",
     "output_type": "stream",
     "text": [
      "ARIMA(0, 0, 0) RMSE=228.966\n",
      "ARIMA(0, 0, 1) RMSE=195.308\n",
      "ARIMA(0, 0, 2) RMSE=154.886\n",
      "ARIMA(0, 1, 0) RMSE=134.176\n",
      "ARIMA(0, 1, 1) RMSE=97.766\n",
      "ARIMA(0, 2, 0) RMSE=259.499\n",
      "ARIMA(0, 2, 1) RMSE=135.364\n",
      "ARIMA(1, 0, 0) RMSE=152.029\n",
      "ARIMA(1, 1, 0) RMSE=84.388\n",
      "ARIMA(1, 1, 1) RMSE=83.688\n",
      "ARIMA(1, 2, 0) RMSE=136.411\n",
      "ARIMA(2, 1, 0) RMSE=75.432\n",
      "ARIMA(2, 1, 1) RMSE=88.089\n",
      "ARIMA(2, 2, 0) RMSE=99.302\n",
      "ARIMA(4, 1, 0) RMSE=81.545\n",
      "ARIMA(4, 1, 1) RMSE=82.440\n",
      "ARIMA(4, 2, 0) RMSE=87.157\n",
      "ARIMA(4, 2, 1) RMSE=68.519\n",
      "ARIMA(6, 1, 0) RMSE=82.523\n",
      "ARIMA(6, 2, 0) RMSE=79.128\n",
      "ARIMA(8, 1, 0) RMSE=81.113\n",
      "Best ARIMA(4, 2, 1) RMSE=68.519\n"
     ]
    }
   ],
   "source": [
    "import warnings\n",
    "from math import sqrt\n",
    "from pandas import read_csv\n",
    "from pandas import datetime\n",
    "from statsmodels.tsa.arima_model import ARIMA\n",
    "from sklearn.metrics import mean_squared_error\n",
    "\n",
    "# evaluate an ARIMA model for a given order (p,d,q)\n",
    "def evaluate_arima_model(X, arima_order):\n",
    "\t# prepare training dataset\n",
    "\ttrain_size = int(len(X) * 0.66)\n",
    "\ttrain, test = X[0:train_size], X[train_size:]\n",
    "\thistory = [x for x in train]\n",
    "\t# make predictions\n",
    "\tpredictions = list()\n",
    "\tfor t in range(len(test)):\n",
    "\t\tmodel = ARIMA(history, order=arima_order)\n",
    "\t\tmodel_fit = model.fit(disp=0)\n",
    "\t\tyhat = model_fit.forecast()[0]\n",
    "\t\tpredictions.append(yhat)\n",
    "\t\thistory.append(test[t])\n",
    "\t# calculate out of sample error\n",
    "\trmse = sqrt(mean_squared_error(test, predictions))\n",
    "\treturn rmse\n",
    "\n",
    "# evaluate combinations of p, d and q values for an ARIMA model\n",
    "def evaluate_models(dataset, p_values, d_values, q_values):\n",
    "\tdataset = dataset.astype('float32')\n",
    "\tbest_score, best_cfg = float(\"inf\"), None\n",
    "\tfor p in p_values:\n",
    "\t\tfor d in d_values:\n",
    "\t\t\tfor q in q_values:\n",
    "\t\t\t\torder = (p,d,q)\n",
    "\t\t\t\ttry:\n",
    "\t\t\t\t\trmse = evaluate_arima_model(dataset, order)\n",
    "\t\t\t\t\tif rmse < best_score:\n",
    "\t\t\t\t\t\tbest_score, best_cfg = rmse, order\n",
    "\t\t\t\t\tprint('ARIMA%s RMSE=%.3f' % (order,rmse))\n",
    "\t\t\t\texcept:\n",
    "\t\t\t\t\tcontinue\n",
    "\tprint('Best ARIMA%s RMSE=%.3f' % (best_cfg, best_score))\n",
    "\n",
    "# load dataset\n",
    "def parser(x):\n",
    "\treturn datetime.strptime('190'+x, '%Y-%m')\n",
    "series = read_csv('shampoo-sales.csv', header=0, index_col=0, parse_dates=True, squeeze=True, date_parser=parser)\n",
    "# evaluate parameters\n",
    "p_values = [0, 1, 2, 4, 6, 8, 10]\n",
    "d_values = range(0, 3)\n",
    "q_values = range(0, 3)\n",
    "warnings.filterwarnings(\"ignore\")\n",
    "evaluate_models(series.values, p_values, d_values, q_values)"
   ]
  },
  {
   "cell_type": "markdown",
   "metadata": {},
   "source": [
    "### grid search ARIMA parameters for time series for Female Births"
   ]
  },
  {
   "cell_type": "code",
   "execution_count": 2,
   "metadata": {},
   "outputs": [
    {
     "name": "stdout",
     "output_type": "stream",
     "text": [
      "ARIMA(0, 0, 0) RMSE=8.189\n",
      "ARIMA(0, 0, 1) RMSE=7.884\n",
      "ARIMA(0, 0, 2) RMSE=7.771\n",
      "ARIMA(0, 1, 0) RMSE=9.167\n",
      "ARIMA(0, 1, 1) RMSE=7.527\n",
      "ARIMA(0, 1, 2) RMSE=7.434\n",
      "ARIMA(0, 2, 0) RMSE=15.698\n",
      "ARIMA(0, 2, 1) RMSE=9.201\n",
      "ARIMA(1, 0, 0) RMSE=7.802\n",
      "ARIMA(1, 1, 0) RMSE=8.120\n",
      "ARIMA(1, 1, 1) RMSE=7.425\n",
      "ARIMA(1, 2, 0) RMSE=11.990\n",
      "ARIMA(2, 0, 0) RMSE=7.697\n",
      "ARIMA(2, 0, 1) RMSE=7.421\n",
      "ARIMA(2, 1, 0) RMSE=7.713\n",
      "ARIMA(2, 1, 1) RMSE=7.417\n",
      "ARIMA(2, 2, 0) RMSE=10.373\n",
      "ARIMA(4, 0, 0) RMSE=7.693\n",
      "ARIMA(4, 1, 0) RMSE=7.578\n",
      "ARIMA(4, 1, 1) RMSE=7.474\n",
      "ARIMA(4, 2, 0) RMSE=8.956\n",
      "ARIMA(6, 0, 0) RMSE=7.666\n",
      "ARIMA(6, 1, 0) RMSE=7.293\n",
      "ARIMA(6, 1, 1) RMSE=7.554\n",
      "ARIMA(6, 2, 0) RMSE=8.352\n",
      "ARIMA(8, 0, 0) RMSE=7.549\n",
      "ARIMA(8, 0, 1) RMSE=7.565\n",
      "ARIMA(8, 0, 2) RMSE=7.624\n",
      "ARIMA(8, 1, 0) RMSE=7.569\n",
      "ARIMA(8, 1, 1) RMSE=7.430\n",
      "ARIMA(8, 1, 2) RMSE=7.435\n",
      "ARIMA(8, 2, 0) RMSE=8.126\n",
      "ARIMA(8, 2, 1) RMSE=7.605\n",
      "ARIMA(10, 0, 0) RMSE=7.581\n",
      "ARIMA(10, 1, 0) RMSE=7.574\n",
      "ARIMA(10, 1, 1) RMSE=7.441\n",
      "ARIMA(10, 2, 0) RMSE=8.093\n",
      "ARIMA(10, 2, 1) RMSE=7.608\n",
      "Best ARIMA(6, 1, 0) RMSE=7.293\n"
     ]
    }
   ],
   "source": [
    "import warnings\n",
    "from math import sqrt\n",
    "from pandas import read_csv\n",
    "from statsmodels.tsa.arima_model import ARIMA\n",
    "from sklearn.metrics import mean_squared_error\n",
    "\n",
    "# evaluate an ARIMA model for a given order (p,d,q)\n",
    "def evaluate_arima_model(X, arima_order):\n",
    "\t# prepare training dataset\n",
    "\ttrain_size = int(len(X) * 0.66)\n",
    "\ttrain, test = X[0:train_size], X[train_size:]\n",
    "\thistory = [x for x in train]\n",
    "\t# make predictions\n",
    "\tpredictions = list()\n",
    "\tfor t in range(len(test)):\n",
    "\t\tmodel = ARIMA(history, order=arima_order)\n",
    "\t\tmodel_fit = model.fit(disp=0)\n",
    "\t\tyhat = model_fit.forecast()[0]\n",
    "\t\tpredictions.append(yhat)\n",
    "\t\thistory.append(test[t])\n",
    "\t# calculate out of sample error\n",
    "\trmse = sqrt(mean_squared_error(test, predictions))\n",
    "\treturn rmse\n",
    "\n",
    "# evaluate combinations of p, d and q values for an ARIMA model\n",
    "def evaluate_models(dataset, p_values, d_values, q_values):\n",
    "\tdataset = dataset.astype('float32')\n",
    "\tbest_score, best_cfg = float(\"inf\"), None\n",
    "\tfor p in p_values:\n",
    "\t\tfor d in d_values:\n",
    "\t\t\tfor q in q_values:\n",
    "\t\t\t\torder = (p,d,q)\n",
    "\t\t\t\ttry:\n",
    "\t\t\t\t\trmse = evaluate_arima_model(dataset, order)\n",
    "\t\t\t\t\tif rmse < best_score:\n",
    "\t\t\t\t\t\tbest_score, best_cfg = rmse, order\n",
    "\t\t\t\t\tprint('ARIMA%s RMSE=%.3f' % (order,rmse))\n",
    "\t\t\t\texcept:\n",
    "\t\t\t\t\tcontinue\n",
    "\tprint('Best ARIMA%s RMSE=%.3f' % (best_cfg, best_score))\n",
    "\n",
    "# load dataset\n",
    "series = read_csv('daily-total-female-births.csv', header=0, index_col=0, parse_dates=True, squeeze=True)\n",
    "# evaluate parameters\n",
    "p_values = [0, 1, 2, 4, 6, 8, 10]\n",
    "d_values = range(0, 3)\n",
    "q_values = range(0, 3)\n",
    "warnings.filterwarnings(\"ignore\")\n",
    "evaluate_models(series.values, p_values, d_values, q_values)"
   ]
  },
  {
   "cell_type": "code",
   "execution_count": null,
   "metadata": {
    "collapsed": true
   },
   "outputs": [],
   "source": []
  }
 ],
 "metadata": {
  "kernelspec": {
   "display_name": "Python 3",
   "language": "python",
   "name": "python3"
  },
  "language_info": {
   "codemirror_mode": {
    "name": "ipython",
    "version": 3
   },
   "file_extension": ".py",
   "mimetype": "text/x-python",
   "name": "python",
   "nbconvert_exporter": "python",
   "pygments_lexer": "ipython3",
   "version": "3.6.1"
  }
 },
 "nbformat": 4,
 "nbformat_minor": 2
}
