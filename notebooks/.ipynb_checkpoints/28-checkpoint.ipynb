{
 "cells": [
  {
   "cell_type": "markdown",
   "metadata": {},
   "source": [
    "### summarize the confidence interval on an ARIMA forecast"
   ]
  },
  {
   "cell_type": "code",
   "execution_count": 1,
   "metadata": {},
   "outputs": [
    {
     "name": "stderr",
     "output_type": "stream",
     "text": [
      "/Users/jai/anaconda/lib/python3.6/site-packages/statsmodels/compat/pandas.py:56: FutureWarning: The pandas.core.datetools module is deprecated and will be removed in a future version. Please use the pandas.tseries module instead.\n",
      "  from pandas.core import datetools\n"
     ]
    },
    {
     "name": "stdout",
     "output_type": "stream",
     "text": [
      "Expected: 50.000\n",
      "Forecast: 45.878\n",
      "Standard Error: 6.996\n",
      "95% Confidence Interval: 32.167 to 59.590\n"
     ]
    }
   ],
   "source": [
    "from pandas import read_csv\n",
    "from statsmodels.tsa.arima_model import ARIMA\n",
    "# load dataset\n",
    "series = read_csv('daily-total-female-births.csv', header=0, index_col=0, parse_dates=True, squeeze=True)\n",
    "# split into train and test sets\n",
    "X = series.values\n",
    "X = X.astype('float32')\n",
    "size = len(X) - 1\n",
    "train, test = X[0:size], X[size:]\n",
    "# fit an ARIMA model\n",
    "model = ARIMA(train, order=(5,1,1))\n",
    "model_fit = model.fit(disp=False)\n",
    "# forecast\n",
    "forecast, stderr, conf = model_fit.forecast()\n",
    "# summarize forecast and confidence intervals\n",
    "print('Expected: %.3f' % test[0])\n",
    "print('Forecast: %.3f' % forecast)\n",
    "print('Standard Error: %.3f' % stderr)\n",
    "print('95%% Confidence Interval: %.3f to %.3f' % (conf[0][0], conf[0][1]))"
   ]
  },
  {
   "cell_type": "markdown",
   "metadata": {},
   "source": [
    "### summarize multiple confidence intervals on an ARIMA forecast"
   ]
  },
  {
   "cell_type": "code",
   "execution_count": 3,
   "metadata": {},
   "outputs": [
    {
     "name": "stdout",
     "output_type": "stream",
     "text": [
      "80.0% Confidence Interval: 45.878 between 36.913 and 54.844\n",
      "90.0% Confidence Interval: 45.878 between 34.371 and 57.386\n",
      "95.0% Confidence Interval: 45.878 between 32.167 and 59.590\n",
      "99.0% Confidence Interval: 45.878 between 27.858 and 63.898\n"
     ]
    }
   ],
   "source": [
    "from pandas import read_csv\n",
    "from statsmodels.tsa.arima_model import ARIMA\n",
    "# load data\n",
    "series = read_csv('daily-total-female-births.csv', header=0, index_col=0, parse_dates=True, squeeze=True)\n",
    "# split data into train and test setes\n",
    "X = series.values\n",
    "X = X.astype('float32')\n",
    "size = len(X) - 1\n",
    "train, test = X[0:size], X[size:]\n",
    "# fit an ARIMA model\n",
    "model = ARIMA(train, order=(5,1,1))\n",
    "model_fit = model.fit(disp=False)\n",
    "# summarize confidence intervals\n",
    "intervals = [0.2, 0.1, 0.05, 0.01]\n",
    "for a in intervals:\n",
    "\tforecast, stderr, conf = model_fit.forecast(alpha=a)\n",
    "\tprint('%.1f%% Confidence Interval: %.3f between %.3f and %.3f' % ((1-a)*100, forecast, conf[0][0], conf[0][1]))"
   ]
  },
  {
   "cell_type": "markdown",
   "metadata": {},
   "source": [
    "### plot the confidence intervals for an ARIMA forecast"
   ]
  },
  {
   "cell_type": "code",
   "execution_count": 4,
   "metadata": {},
   "outputs": [
    {
     "data": {
      "image/png": "[encoded data removed]",
      "text/plain": [
       "<matplotlib.figure.Figure at 0x1061225f8>"
      ]
     },
     "metadata": {},
     "output_type": "display_data"
    }
   ],
   "source": [
    "from pandas import read_csv\n",
    "from matplotlib import pyplot\n",
    "from statsmodels.tsa.arima_model import ARIMA\n",
    "# load data\n",
    "series = read_csv('daily-total-female-births.csv', header=0, index_col=0, parse_dates=True, squeeze=True)\n",
    "# split into train and test sets\n",
    "X = series.values\n",
    "X = X.astype('float32')\n",
    "size = len(X) - 1\n",
    "train, test = X[0:size], X[size:]\n",
    "# fit an ARIMA model\n",
    "model = ARIMA(train, order=(5,1,1))\n",
    "model_fit = model.fit(disp=False)\n",
    "# plot some history and the forecast with confidence intervals\n",
    "model_fit.plot_predict(len(train)-10, len(train)+1)\n",
    "pyplot.legend(loc='upper left')\n",
    "pyplot.show()"
   ]
  }
 ],
 "metadata": {
  "kernelspec": {
   "display_name": "Python 3",
   "language": "python",
   "name": "python3"
  },
  "language_info": {
   "codemirror_mode": {
    "name": "ipython",
    "version": 3
   },
   "file_extension": ".py",
   "mimetype": "text/x-python",
   "name": "python",
   "nbconvert_exporter": "python",
   "pygments_lexer": "ipython3",
   "version": "3.6.1"
  }
 },
 "nbformat": 4,
 "nbformat_minor": 2
}
